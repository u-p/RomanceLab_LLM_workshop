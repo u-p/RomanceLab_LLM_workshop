{
 "cells": [
  {
   "cell_type": "markdown",
   "id": "470a9147",
   "metadata": {},
   "source": [
    "### Install libraries"
   ]
  },
  {
   "cell_type": "code",
   "execution_count": null,
   "id": "2ea5912e-fb0c-4cb6-897e-b4963d477a2e",
   "metadata": {},
   "outputs": [],
   "source": [
    "!pip install minicons"
   ]
  },
  {
   "cell_type": "markdown",
   "id": "a314e011",
   "metadata": {},
   "source": [
    "### Import `minicons`"
   ]
  },
  {
   "cell_type": "code",
   "execution_count": null,
   "id": "e2d95ffe-412f-4ae5-bbb0-04a9fcb6e4d2",
   "metadata": {},
   "outputs": [],
   "source": [
    "from minicons import scorer"
   ]
  },
  {
   "cell_type": "markdown",
   "id": "70fcc193",
   "metadata": {},
   "source": [
    "### Initialize the model\n"
   ]
  },
  {
   "cell_type": "code",
   "execution_count": null,
   "id": "c6296ecb-750e-4cac-b373-9fa257433b74",
   "metadata": {},
   "outputs": [],
   "source": [
    "model_name = \"HuggingFaceTB/SmolLM2-135M\"\n",
    "\n",
    "lmScorer = scorer.IncrementalLMScorer(model_name)"
   ]
  }
 ],
 "metadata": {
  "kernelspec": {
   "display_name": "psycholinx",
   "language": "python",
   "name": "python3"
  },
  "language_info": {
   "codemirror_mode": {
    "name": "ipython",
    "version": 3
   },
   "file_extension": ".py",
   "mimetype": "text/x-python",
   "name": "python",
   "nbconvert_exporter": "python",
   "pygments_lexer": "ipython3",
   "version": "3.11.13"
  }
 },
 "nbformat": 4,
 "nbformat_minor": 5
}
