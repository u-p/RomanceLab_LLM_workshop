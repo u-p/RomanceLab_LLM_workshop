{
 "cells": [
  {
   "cell_type": "markdown",
   "id": "7a815881",
   "metadata": {},
   "source": [
    "#### **Exercise 3**: Generate _sentence_ surprial predictions for the Portuguese study\n",
    "\n",
    "1. Congruent:\n",
    "\t- O Glipi vai comer a bolacha.\n",
    "1. Incongruent:\n",
    "\t- O Glipi vai comer a rosa.\n",
    "<br>\n",
    "\n",
    "#### Note\n",
    "- Use the following functions:\n",
    "    - `get_sentence_surprisal(scorer, BOS, sentence)`\n",
    "    - `get_sentence_surprisal_csv(scorer, BOS, input_csv, sentence_col, output_csv, sep)` (use sep=\";\")\n",
    "- For items see: `experiment_items/Items_Portuguese_semantic_congruency.csv`"
   ]
  },
  {
   "cell_type": "code",
   "execution_count": 1,
   "id": "25387644",
   "metadata": {},
   "outputs": [],
   "source": [
    "# Import \"scorer\" module from the minicons library\n",
    "from minicons import scorer\n",
    "\n",
    "# Load helper functions from the file helper_functions.py\n",
    "from helper_functions import *"
   ]
  },
  {
   "cell_type": "code",
   "execution_count": null,
   "id": "1836b0b1",
   "metadata": {},
   "outputs": [],
   "source": [
    "# Model for Portuguese\n",
    "model_name_pt = \"goldfish-models/por_latn_1000mb\"\n",
    "\n",
    "# Load the specified model IncrementalLMScorer is a wrapper around any causal (autoregressive) language model accessible via Hugging Face’s transformers.\n",
    "lmScorer_pt = scorer.IncrementalLMScorer(model_name_pt) \n",
    "\n",
    "BOS_pt = initialize_bos(model_name_pt)"
   ]
  }
 ],
 "metadata": {
  "kernelspec": {
   "display_name": "psycholinx",
   "language": "python",
   "name": "python3"
  },
  "language_info": {
   "codemirror_mode": {
    "name": "ipython",
    "version": 3
   },
   "file_extension": ".py",
   "mimetype": "text/x-python",
   "name": "python",
   "nbconvert_exporter": "python",
   "pygments_lexer": "ipython3",
   "version": "3.11.13"
  }
 },
 "nbformat": 4,
 "nbformat_minor": 5
}
