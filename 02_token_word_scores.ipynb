{
 "cells": [
  {
   "cell_type": "markdown",
   "id": "2587a770",
   "metadata": {},
   "source": [
    "### Install libraries"
   ]
  },
  {
   "cell_type": "code",
   "execution_count": null,
   "id": "c68cfb7b",
   "metadata": {},
   "outputs": [],
   "source": [
    "!pip install minicons\n",
    "!pip install nltk\n",
    "!pip install matplotlib"
   ]
  },
  {
   "cell_type": "markdown",
   "id": "a72a0b34",
   "metadata": {},
   "source": [
    "### Import libraries and functions"
   ]
  },
  {
   "cell_type": "code",
   "execution_count": null,
   "id": "1b8a9b3c",
   "metadata": {},
   "outputs": [],
   "source": [
    "# Import \"scorer\" module from the minicons library, which provides functionalities for computing \n",
    "# log-probabilities and surprisal using pretrained transformer models\n",
    "from minicons import scorer\n",
    "\n",
    "# Load helper functions from the file helper_functions.py\n",
    "from helper_functions import plot_surprisals"
   ]
  },
  {
   "cell_type": "markdown",
   "id": "4506a06f",
   "metadata": {},
   "source": [
    "### Initialize the model"
   ]
  },
  {
   "cell_type": "code",
   "execution_count": null,
   "id": "a8300ba9",
   "metadata": {},
   "outputs": [],
   "source": [
    "model_name = \"HuggingFaceTB/SmolLM2-135M\"\n",
    "\n",
    "# Load the specified model IncrementalLMScorer is a wrapper around any causal (autoregressive) language model accessible via Hugging Face’s transformers.\n",
    "lmScorer = scorer.IncrementalLMScorer(model_name)"
   ]
  },
  {
   "cell_type": "markdown",
   "id": "25873a43",
   "metadata": {},
   "source": [
    "### Generate surprisal for tokens\n"
   ]
  },
  {
   "cell_type": "code",
   "execution_count": null,
   "id": "9a04bb49",
   "metadata": {},
   "outputs": [],
   "source": [
    "sent_garden_path_amb = \"The horse raced past the barn fell.\"\n",
    "sent_garden_path_unamb = \"The horse that was raced past the barn fell.\""
   ]
  },
  {
   "cell_type": "code",
   "execution_count": null,
   "id": "caccb8d9",
   "metadata": {},
   "outputs": [],
   "source": [
    "token_surprisal_amb = lmScorer.token_score(\n",
    "    sent_garden_path_amb, \n",
    "    bos_token=True,\n",
    "    prob=False,\n",
    "    surprisal=True,\n",
    "    bow_correction=True\n",
    ")\n",
    "\n",
    "token_surprisal_amb"
   ]
  },
  {
   "cell_type": "code",
   "execution_count": null,
   "id": "4e168caa",
   "metadata": {},
   "outputs": [],
   "source": [
    "plot_surprisals(token_surprisal_amb)"
   ]
  },
  {
   "cell_type": "code",
   "execution_count": null,
   "id": "fa037bda",
   "metadata": {},
   "outputs": [],
   "source": [
    "token_surprisal_unamb = lmScorer.token_score(\n",
    "    sent_garden_path_unamb, \n",
    "    bos_token=True,\n",
    "    prob=False,\n",
    "    surprisal=True,\n",
    "    bow_correction=True\n",
    ")\n",
    "\n",
    "token_surprisal_unamb"
   ]
  },
  {
   "cell_type": "code",
   "execution_count": null,
   "id": "98b9cf78",
   "metadata": {},
   "outputs": [],
   "source": [
    "plot_surprisals(token_surprisal_unamb)"
   ]
  },
  {
   "cell_type": "markdown",
   "id": "ca77c473",
   "metadata": {},
   "source": [
    "### Generate surprisal for words\n"
   ]
  },
  {
   "cell_type": "markdown",
   "id": "928ef72c",
   "metadata": {},
   "source": [
    "#### Load `TweetTokenizer` from `nltk` library"
   ]
  },
  {
   "cell_type": "code",
   "execution_count": null,
   "id": "7fb6eef7",
   "metadata": {},
   "outputs": [],
   "source": [
    "from nltk.tokenize import TweetTokenizer\n",
    "word_tokenizer = TweetTokenizer().tokenize"
   ]
  },
  {
   "cell_type": "code",
   "execution_count": null,
   "id": "bfe3eca0",
   "metadata": {},
   "outputs": [],
   "source": [
    "word_surprisal_amb = lmScorer.word_score_tokenized(\n",
    "    sent_garden_path_amb, \n",
    "    bos_token=True,\n",
    "    tokenize_function=word_tokenizer,\n",
    "    surprisal=True,\n",
    "    bow_correction=True,\n",
    ")\n",
    "\n",
    "word_surprisal_amb"
   ]
  },
  {
   "cell_type": "code",
   "execution_count": null,
   "id": "e1aa3a02",
   "metadata": {},
   "outputs": [],
   "source": [
    "plot_surprisals(word_surprisal_amb, ymax=20)"
   ]
  },
  {
   "cell_type": "markdown",
   "id": "a0454579",
   "metadata": {},
   "source": [
    "<BR>\n",
    "<BR>"
   ]
  },
  {
   "cell_type": "markdown",
   "id": "48eef41a",
   "metadata": {},
   "source": [
    "### Exercise: Compare surprisal predictions for the following psycholinguistic effects\n",
    "1. Object-Relative Clause (King & Just, 1991) → Harder than subject-relative clauses.\n",
    "    - \"The reporter that the senator attacked admitted the error.\"\n",
    "    - \"The reporter that attacked the senator admitted the error.\"\n",
    "\n",
    "1. Negative Polarity Item Licensing (Xiang, et al. 2009) → Complexity in licensing “no” with downward-entailing contexts.\n",
    "    - Grammatical: {No/Very few} restaurants that the local newspapers have recommended in their dining reviews have ever gone out of business\n",
    "    - Ungrammatical (intrusive licensor): The restaurants that {no/very few} local newspapers have recommended in their dining reviews have ever gone out of business\n",
    "    - Ungrammatical (no licensor): Most restaurants that the local newspapers have recommended in their dining reviews have ever gone out of business\n",
    "\n",
    "1. Pronoun Resolution Difficulty (Garnham, 2001) → Ambiguity in pronoun referent.\n",
    "    - \"John told Bill that he was going to win.\"\n",
    "    - \"John told Mary that he was going to win.\"\n",
    "\n",
    "1. Center-Embedding (Miller & Chomsky, 1963) → Processing load increases with nested clauses.\n",
    "    - \"The rat the cat the dog chased killed ate the cheese.\""
   ]
  }
 ],
 "metadata": {
  "kernelspec": {
   "display_name": "psycholinx",
   "language": "python",
   "name": "python3"
  },
  "language_info": {
   "codemirror_mode": {
    "name": "ipython",
    "version": 3
   },
   "file_extension": ".py",
   "mimetype": "text/x-python",
   "name": "python",
   "nbconvert_exporter": "python",
   "pygments_lexer": "ipython3",
   "version": "3.11.13"
  }
 },
 "nbformat": 4,
 "nbformat_minor": 5
}
