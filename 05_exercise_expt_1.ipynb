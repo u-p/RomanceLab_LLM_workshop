{
 "cells": [
  {
   "cell_type": "markdown",
   "id": "a40d143c",
   "metadata": {},
   "source": [
    "#### **Exercise 1 (a)**: Generate predictions for [Lago et al. (2025)](https://doi.org/10.5070/G6011.25340) example items\n",
    "\n",
    "1.\t**gram_sg**\t<br> Der Vertrag, den die Diplomaten feierlich _unterzeichneten_ bei der Konferenz, hatte viele Seiten.\n",
    "\n",
    "1.\t**gram_pl**\t<br> Die Verträge, die die Diplomaten feierlich _unterzeichneten_ bei der Konferenz, hatten viele Seiten.\n",
    "\n",
    "1.\t**ungram_sg**\t<br> Der Vertrag, den der Diplomat feierlich _unterzeichneten_ bei der Konferenz, hatte viele Seiten.\n",
    "\n",
    "1.\t**ungram_pl**\t<br> Die Verträge, die der Diplomat feierlich _unterzeichneten_ bei der Konferenz, hatten viele Seiten.\n",
    "\n",
    "<br>\n",
    "\n",
    "The critical word is always the verb within the relative clause.\n",
    "\n",
    "It’s a typical attraction design, so the research questions are:\n",
    "\n",
    "1. Whether people slow down their reading of the verb in ungrammatical  vs. grammatical sentences <br>\n",
    "Comparison: [gram_sg,  gram_pl] vs. [ungram_sg, ungram_pl]\n",
    "\n",
    "1. Whether people have a reading facilitation for ungrammatical verbs in the presence of a plural attractor <br>\n",
    "Comparison:  ungram_pl vs. ungram_sg"
   ]
  },
  {
   "cell_type": "code",
   "execution_count": null,
   "id": "594d457a",
   "metadata": {},
   "outputs": [],
   "source": [
    "# Import \"scorer\" module from the minicons library\n",
    "from minicons import scorer\n",
    "\n",
    "# Load helper functions from the file helper_functions.py\n",
    "from helper_functions import *"
   ]
  },
  {
   "cell_type": "code",
   "execution_count": null,
   "id": "6bf6fa80",
   "metadata": {},
   "outputs": [],
   "source": [
    "# Model for German\n",
    "model_name_de = \"goldfish-models/deu_latn_1000mb\"\n",
    "\n",
    "# Load the specified model IncrementalLMScorer is a wrapper around any causal (autoregressive) language model accessible via Hugging Face’s transformers.\n",
    "lmScorer_de = scorer.IncrementalLMScorer(model_name_de)\n",
    "\n",
    "BOS_de = initialize_bos(model_name_de)"
   ]
  },
  {
   "cell_type": "code",
   "execution_count": null,
   "id": "da6339b0",
   "metadata": {},
   "outputs": [],
   "source": [
    "gram_sg = \"Der Vertrag, den die Diplomaten feierlich unterzeichneten bei der Konferenz, hatte viele Seiten.\"\n",
    "gram_pl = \"Die Verträge, die die Diplomaten feierlich unterzeichneten bei der Konferenz, hatten viele Seiten.\"\n",
    "ungram_sg = \"Der Vertrag, den der Diplomat feierlich unterzeichneten bei der Konferenz, hatte viele Seiten.\"\n",
    "ungram_pl = \"Die Verträge, die der Diplomat feierlich unterzeichneten bei der Konferenz, hatten viele Seiten.\""
   ]
  },
  {
   "cell_type": "code",
   "execution_count": null,
   "id": "cac561af",
   "metadata": {},
   "outputs": [],
   "source": []
  },
  {
   "cell_type": "code",
   "execution_count": null,
   "id": "00e43396",
   "metadata": {},
   "outputs": [],
   "source": []
  },
  {
   "cell_type": "code",
   "execution_count": null,
   "id": "47dda195",
   "metadata": {},
   "outputs": [],
   "source": []
  },
  {
   "cell_type": "code",
   "execution_count": null,
   "id": "fc1692cf",
   "metadata": {},
   "outputs": [],
   "source": []
  },
  {
   "cell_type": "code",
   "execution_count": null,
   "id": "c3d48d15",
   "metadata": {},
   "outputs": [],
   "source": []
  },
  {
   "cell_type": "code",
   "execution_count": null,
   "id": "48c2a94b",
   "metadata": {},
   "outputs": [],
   "source": []
  },
  {
   "cell_type": "markdown",
   "id": "8d47ac78",
   "metadata": {},
   "source": [
    "<BR>\n",
    "<BR>\n",
    "\n",
    "#### **Exercise 1 (b)**: Generate predictions for all items used in [Lago et al. (2025)](https://doi.org/10.5070/G6011.25340)\n",
    "- See the file `experiment_items/Items_German_lago_et_al_2025.csv` containing items\n",
    "- Use the function `get_word_surprisal_csv()`\n",
    "- Run the following cell and check if the output file has surprisal values"
   ]
  },
  {
   "cell_type": "code",
   "execution_count": null,
   "id": "45f70e9f",
   "metadata": {},
   "outputs": [],
   "source": [
    "items_source_file = \"experiment_items/Items_German_lago_et_al_2025.csv\"\n",
    "items_dest_file = \"experiment_items/Items_German_lago_et_al_2025_surprisal.csv\"\n",
    "\n",
    "get_word_surprisal_csv(lmScorer_de, \n",
    "                       BOS=BOS_de, \n",
    "                       input_csv=items_source_file, \n",
    "                       sentence_col=\"Sentence\", \n",
    "                       word_col=\"TargetWord\", \n",
    "                       output_csv=items_dest_file\n",
    "                       )"
   ]
  },
  {
   "cell_type": "markdown",
   "id": "6795923b",
   "metadata": {},
   "source": [
    "<BR>\n",
    "<BR>\n",
    "\n",
    "#### **Exercise 1 (c)**: Calculate mean surprisal by condition for [Lago et al. (2025)](https://doi.org/10.5070/G6011.25340) items\n",
    "- Run the following cells and check if the mean surprisal values make sense"
   ]
  },
  {
   "cell_type": "code",
   "execution_count": null,
   "id": "1fe5dc39",
   "metadata": {},
   "outputs": [],
   "source": [
    "import pandas as pd"
   ]
  },
  {
   "cell_type": "code",
   "execution_count": null,
   "id": "82601779",
   "metadata": {},
   "outputs": [],
   "source": [
    "# Read the CSV file with surprisal values\n",
    "df_lago_etal_2025 = pd.read_csv(items_dest_file)\n",
    "\n",
    "# Calculate mean surprisal by condition\n",
    "condition_order = [\"gram_sg\", \"gram_pl\", \"ungram_sg\", \"ungram_pl\"]\n",
    "df_lago_etal_2025.groupby('Condition')['surprisal'].mean().reindex(condition_order)"
   ]
  },
  {
   "cell_type": "markdown",
   "id": "7e155d60",
   "metadata": {},
   "source": [
    "#### Plot means"
   ]
  },
  {
   "cell_type": "code",
   "execution_count": null,
   "id": "ee069cb9",
   "metadata": {},
   "outputs": [],
   "source": [
    "means = df_lago_etal_2025.groupby('Condition')['surprisal'].mean().reindex(condition_order)\n",
    "\n",
    "means.plot(kind='bar', color='lightcoral')\n",
    "\n",
    "for i, val in enumerate(means):\n",
    "    plt.text(i, val, f'{val:.2f}', ha='center', va='bottom')\n",
    "\n",
    "plt.ylabel('Mean Surprisal')\n",
    "plt.title('Mean Surprisal by Condition (Lago et al. 2025)')\n",
    "plt.tight_layout()\n",
    "plt.show()\n"
   ]
  }
 ],
 "metadata": {
  "kernelspec": {
   "display_name": "psycholinx",
   "language": "python",
   "name": "python3"
  },
  "language_info": {
   "codemirror_mode": {
    "name": "ipython",
    "version": 3
   },
   "file_extension": ".py",
   "mimetype": "text/x-python",
   "name": "python",
   "nbconvert_exporter": "python",
   "pygments_lexer": "ipython3",
   "version": "3.11.13"
  }
 },
 "nbformat": 4,
 "nbformat_minor": 5
}
