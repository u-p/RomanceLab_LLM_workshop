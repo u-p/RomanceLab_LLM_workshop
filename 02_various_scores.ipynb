{
 "cells": [
  {
   "cell_type": "markdown",
   "id": "e2c5579f",
   "metadata": {},
   "source": [
    "### Install libraries"
   ]
  },
  {
   "cell_type": "code",
   "execution_count": null,
   "id": "c68cfb7b",
   "metadata": {},
   "outputs": [],
   "source": [
    "# !pip install minicons\n",
    "# !pip install nltk"
   ]
  },
  {
   "cell_type": "markdown",
   "id": "a72a0b34",
   "metadata": {},
   "source": [
    "### Import libraries"
   ]
  },
  {
   "cell_type": "code",
   "execution_count": null,
   "id": "1b8a9b3c",
   "metadata": {},
   "outputs": [],
   "source": []
  }
 ],
 "metadata": {
  "language_info": {
   "name": "python"
  }
 },
 "nbformat": 4,
 "nbformat_minor": 5
}
