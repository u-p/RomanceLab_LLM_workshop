{
 "cells": [
  {
   "cell_type": "markdown",
   "id": "b4f5b5b1",
   "metadata": {},
   "source": [
    "#### **Exercise 4**: Generate sentence surprial predictions for the German simplification study\n",
    "\n",
    "For items see: `experiment_items/Items_German_simplification.csv`"
   ]
  },
  {
   "cell_type": "code",
   "execution_count": null,
   "id": "41f46416",
   "metadata": {
    "vscode": {
     "languageId": "plaintext"
    }
   },
   "outputs": [],
   "source": []
  }
 ],
 "metadata": {
  "language_info": {
   "name": "python"
  }
 },
 "nbformat": 4,
 "nbformat_minor": 5
}
