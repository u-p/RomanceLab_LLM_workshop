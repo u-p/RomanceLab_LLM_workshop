{
 "cells": [
  {
   "cell_type": "markdown",
   "id": "26e53631",
   "metadata": {},
   "source": [
    "### Install libraries"
   ]
  },
  {
   "cell_type": "code",
   "execution_count": null,
   "id": "0142a41d",
   "metadata": {},
   "outputs": [],
   "source": [
    "!pip install minicons\n",
    "!pip install nltk\n",
    "!pip install matplotlib"
   ]
  },
  {
   "cell_type": "markdown",
   "id": "521c4c0d",
   "metadata": {},
   "source": [
    "### Import libraries and functions"
   ]
  },
  {
   "cell_type": "code",
   "execution_count": null,
   "id": "3bb6b7f1",
   "metadata": {},
   "outputs": [],
   "source": [
    "# Import \"scorer\" module from the minicons library, which provides functionalities for computing \n",
    "# log-probabilities and surprisal using pretrained transformer models\n",
    "from minicons import scorer\n",
    "\n",
    "# Load helper functions from the file helper_functions.py\n",
    "from helper_functions import plot_surprisals"
   ]
  },
  {
   "cell_type": "markdown",
   "id": "33b7dde3",
   "metadata": {},
   "source": [
    "### Initialize the model\n"
   ]
  },
  {
   "cell_type": "code",
   "execution_count": null,
   "id": "b546bd74",
   "metadata": {},
   "outputs": [],
   "source": [
    "model_name = \"HuggingFaceTB/SmolLM2-135M\"\n",
    "\n",
    "# Load the specified model IncrementalLMScorer is a wrapper around any causal (autoregressive) language model accessible via Hugging Face’s transformers.\n",
    "lmScorer = scorer.IncrementalLMScorer(model_name)"
   ]
  }
 ],
 "metadata": {
  "language_info": {
   "name": "python"
  }
 },
 "nbformat": 4,
 "nbformat_minor": 5
}
