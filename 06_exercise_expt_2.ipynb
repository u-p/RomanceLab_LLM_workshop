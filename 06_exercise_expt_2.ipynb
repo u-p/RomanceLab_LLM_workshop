{
 "cells": [
  {
   "cell_type": "markdown",
   "id": "c2f4c29d",
   "metadata": {},
   "source": [
    "#### **Exercise 2 (a)**: Generate predictions for Spanish Clitic Doubling example item\n",
    "\n",
    "1. Dative\n",
    "\t- Laura dio flores a Rafael en el parque de las afueras de la ciudad.\t\n",
    "\n",
    "1. Dative_doubled:\n",
    "\t- Laura le dio flores a Rafael en el parque de las afueras de la ciudad.\n",
    "\n",
    "1. Accusative:\n",
    "\t- Laura encontró a Rafael en el parque de las afueras de la ciudad.\t\n",
    "\n",
    "1. Accusative_doubled:\n",
    "\t- Laura lo encontró a Rafael en el parque de las afueras de la ciudad.\n"
   ]
  },
  {
   "cell_type": "code",
   "execution_count": null,
   "id": "730dbc40",
   "metadata": {},
   "outputs": [],
   "source": [
    "# Import \"scorer\" module from the minicons library\n",
    "from minicons import scorer\n",
    "\n",
    "# Load helper functions from the file helper_functions.py\n",
    "from helper_functions import *"
   ]
  },
  {
   "cell_type": "code",
   "execution_count": null,
   "id": "152f78cd",
   "metadata": {},
   "outputs": [],
   "source": [
    "model_name_es = \"goldfish-models/spa_latn_1000mb\"\n",
    "\n",
    "# Load the specified model IncrementalLMScorer is a wrapper around any causal (autoregressive) language model accessible via Hugging Face’s transformers.\n",
    "lmScorer_es = scorer.IncrementalLMScorer(model_name_es) \n",
    "\n",
    "BOS_es = initialize_bos(model_name_es)"
   ]
  },
  {
   "cell_type": "markdown",
   "id": "4e189d25",
   "metadata": {},
   "source": [
    "<br>\n",
    "<br>\n",
    "\n",
    "#### **Exercise 2 (b)**: Generate predictions for all items\n",
    "- See file: `experiment_items/Items_Spanish_clitic_doubling.csv`"
   ]
  },
  {
   "cell_type": "code",
   "execution_count": null,
   "id": "c02d90db",
   "metadata": {},
   "outputs": [],
   "source": []
  },
  {
   "cell_type": "markdown",
   "id": "4cb9aad0",
   "metadata": {},
   "source": [
    "<BR>\n",
    "<BR>\n",
    "\n",
    "#### **Exercise 2 (c)**: Calculate and check mean surprisal by condition\n"
   ]
  },
  {
   "cell_type": "code",
   "execution_count": null,
   "id": "8f84919f",
   "metadata": {},
   "outputs": [],
   "source": []
  }
 ],
 "metadata": {
  "language_info": {
   "name": "python"
  }
 },
 "nbformat": 4,
 "nbformat_minor": 5
}
