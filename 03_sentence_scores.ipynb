{
 "cells": [
  {
   "cell_type": "markdown",
   "id": "26e53631",
   "metadata": {},
   "source": [
    "### Install libraries"
   ]
  },
  {
   "cell_type": "code",
   "execution_count": null,
   "id": "0142a41d",
   "metadata": {},
   "outputs": [],
   "source": [
    "!pip install minicons\n",
    "!pip install nltk\n",
    "!pip install matplotlib"
   ]
  },
  {
   "cell_type": "markdown",
   "id": "521c4c0d",
   "metadata": {},
   "source": [
    "### Import libraries and functions"
   ]
  },
  {
   "cell_type": "code",
   "execution_count": 1,
   "id": "3bb6b7f1",
   "metadata": {},
   "outputs": [],
   "source": [
    "# Import \"scorer\" module from the minicons library, which provides functionalities for computing \n",
    "# log-probabilities and surprisal using pretrained transformer models\n",
    "from minicons import scorer\n",
    "\n",
    "# Load helper functions from the file helper_functions.py\n",
    "from helper_functions import plot_surprisals"
   ]
  },
  {
   "cell_type": "markdown",
   "id": "33b7dde3",
   "metadata": {},
   "source": [
    "### Initialize the model\n"
   ]
  },
  {
   "cell_type": "code",
   "execution_count": 2,
   "id": "b546bd74",
   "metadata": {},
   "outputs": [],
   "source": [
    "model_name = \"HuggingFaceTB/SmolLM2-135M\"\n",
    "\n",
    "# Load the specified model IncrementalLMScorer is a wrapper around any causal (autoregressive) language model accessible via Hugging Face’s transformers.\n",
    "lmScorer = scorer.IncrementalLMScorer(model_name)"
   ]
  },
  {
   "cell_type": "markdown",
   "id": "d0bf3752",
   "metadata": {},
   "source": [
    "### Generate summed log probabilities for a sentence (sequence of words)\n",
    "Output: scores indicating how likely each sequence is."
   ]
  },
  {
   "cell_type": "code",
   "execution_count": 8,
   "id": "e44eeddc",
   "metadata": {},
   "outputs": [
    {
     "data": {
      "text/plain": [
       "[-4.291023254394531]"
      ]
     },
     "execution_count": 8,
     "metadata": {},
     "output_type": "execute_result"
    }
   ],
   "source": [
    "sent_agr_att_gram = \"The keys to the cabinet are on the table .\"\n",
    "\n",
    "lmScorer.sequence_score(sent_agr_att_gram, bos_token=True, bow_correction=True)"
   ]
  },
  {
   "cell_type": "code",
   "execution_count": 10,
   "id": "7c6861d3",
   "metadata": {},
   "outputs": [
    {
     "data": {
      "text/plain": [
       "[-4.656718730926514]"
      ]
     },
     "execution_count": 10,
     "metadata": {},
     "output_type": "execute_result"
    }
   ],
   "source": [
    "sent_agr_att_ungram = \"The keys to the cabinet is on the table .\"\n",
    "\n",
    "lmScorer.sequence_score(sent_agr_att_ungram, bos_token=True, bow_correction=True)"
   ]
  },
  {
   "cell_type": "code",
   "execution_count": null,
   "id": "c5ed5b92",
   "metadata": {},
   "outputs": [],
   "source": []
  }
 ],
 "metadata": {
  "kernelspec": {
   "display_name": "psycholinx",
   "language": "python",
   "name": "python3"
  },
  "language_info": {
   "codemirror_mode": {
    "name": "ipython",
    "version": 3
   },
   "file_extension": ".py",
   "mimetype": "text/x-python",
   "name": "python",
   "nbconvert_exporter": "python",
   "pygments_lexer": "ipython3",
   "version": "3.11.13"
  }
 },
 "nbformat": 4,
 "nbformat_minor": 5
}
