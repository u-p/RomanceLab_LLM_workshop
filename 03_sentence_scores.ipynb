{
 "cells": [
  {
   "cell_type": "markdown",
   "id": "26e53631",
   "metadata": {},
   "source": [
    "### Install libraries"
   ]
  },
  {
   "cell_type": "code",
   "execution_count": null,
   "id": "0142a41d",
   "metadata": {},
   "outputs": [],
   "source": [
    "!pip install minicons\n",
    "!pip install nltk\n",
    "!pip install matplotlib"
   ]
  },
  {
   "cell_type": "markdown",
   "id": "521c4c0d",
   "metadata": {},
   "source": [
    "### Import libraries and functions"
   ]
  },
  {
   "cell_type": "code",
   "execution_count": null,
   "id": "3bb6b7f1",
   "metadata": {},
   "outputs": [],
   "source": [
    "# Import \"scorer\" module from the minicons library, which provides functionalities for computing \n",
    "# log-probabilities and surprisal using pretrained transformer models\n",
    "from minicons import scorer\n",
    "\n",
    "# Load helper functions from the file helper_functions.py\n",
    "from helper_functions import plot_surprisals"
   ]
  },
  {
   "cell_type": "markdown",
   "id": "33b7dde3",
   "metadata": {},
   "source": [
    "### Initialize the model\n"
   ]
  },
  {
   "cell_type": "code",
   "execution_count": null,
   "id": "b546bd74",
   "metadata": {},
   "outputs": [],
   "source": [
    "model_name = \"HuggingFaceTB/SmolLM2-135M\"\n",
    "\n",
    "# Load the specified model IncrementalLMScorer is a wrapper around any causal (autoregressive) language model accessible via Hugging Face’s transformers.\n",
    "lmScorer = scorer.IncrementalLMScorer(model_name)"
   ]
  },
  {
   "cell_type": "markdown",
   "id": "d0bf3752",
   "metadata": {},
   "source": [
    "### Generate per token log probabilities for a sentence\n",
    "Output: scores indicating how likely each sequence is."
   ]
  },
  {
   "cell_type": "code",
   "execution_count": null,
   "id": "e44eeddc",
   "metadata": {},
   "outputs": [],
   "source": [
    "sent_agr_att_gram = \"The keys to the cabinet are on the table .\"\n",
    "\n",
    "lmScorer.sequence_score(sent_agr_att_gram, bos_token=True, bow_correction=True)"
   ]
  },
  {
   "cell_type": "code",
   "execution_count": null,
   "id": "7c6861d3",
   "metadata": {},
   "outputs": [],
   "source": [
    "sent_agr_att_ungram = \"The keys to the cabinet is on the table .\"\n",
    "\n",
    "lmScorer.sequence_score(sent_agr_att_ungram, bos_token=True, bow_correction=True)"
   ]
  },
  {
   "cell_type": "markdown",
   "id": "b6a72672",
   "metadata": {},
   "source": [
    "### Generate sum log probabilities for a sentence\n",
    "Output: scores indicating how likely each sequence is."
   ]
  },
  {
   "cell_type": "code",
   "execution_count": null,
   "id": "8c6ec919",
   "metadata": {},
   "outputs": [],
   "source": [
    "lmScorer.sequence_score(\n",
    "    sent_agr_att_gram, \n",
    "    bos_token=True, \n",
    "    bow_correction=True,\n",
    "    reduction=lambda x: x.sum().item()\n",
    "    )"
   ]
  },
  {
   "cell_type": "code",
   "execution_count": null,
   "id": "6dcc52e3",
   "metadata": {},
   "outputs": [],
   "source": [
    "lmScorer.sequence_score(\n",
    "    sent_agr_att_ungram, \n",
    "    bos_token=True, \n",
    "    bow_correction=True,\n",
    "    reduction=lambda x: x.sum().item()\n",
    "    )"
   ]
  },
  {
   "cell_type": "markdown",
   "id": "a06168f2",
   "metadata": {},
   "source": [
    "### Exercise: Compare sentence scores for the following psycholinguistic effects\n",
    "\n",
    "1. Object-Relative Clause (King & Just, 1991) → Harder than subject-relative clauses.\n",
    "    - \"The reporter that the senator attacked admitted the error.\"\n",
    "    - \"The reporter that attacked the senator admitted the error.\"\n",
    "\n",
    "1. Negative Polarity Item Licensing (Xiang, et al. 2009) → Complexity in licensing “no” with downward-entailing contexts.\n",
    "    - Grammatical: {No/Very few} restaurants that the local newspapers have recommended in their dining reviews have ever gone out of business\n",
    "    - Ungrammatical (intrusive licensor): The restaurants that {no/very few} local newspapers have recommended in their dining reviews have ever gone out of business\n",
    "    - Ungrammatical (no licensor): Most restaurants that the local newspapers have recommended in their dining reviews have ever gone out of business\n",
    "\n",
    "1. Pronoun Resolution Difficulty (Garnham, 2001) → Ambiguity in pronoun referent.\n",
    "    - \"John told Bill that he was going to win.\"\n",
    "    - \"John told Mary that he was going to win.\"\n",
    "\n",
    "1. Center-Embedding (Miller & Chomsky, 1963) → Processing load increases with nested clauses.\n",
    "    - \"The rat the cat the dog chased killed ate the cheese.\""
   ]
  }
 ],
 "metadata": {
  "kernelspec": {
   "display_name": "psycholinx",
   "language": "python",
   "name": "python3"
  },
  "language_info": {
   "codemirror_mode": {
    "name": "ipython",
    "version": 3
   },
   "file_extension": ".py",
   "mimetype": "text/x-python",
   "name": "python",
   "nbconvert_exporter": "python",
   "pygments_lexer": "ipython3",
   "version": "3.11.13"
  }
 },
 "nbformat": 4,
 "nbformat_minor": 5
}
